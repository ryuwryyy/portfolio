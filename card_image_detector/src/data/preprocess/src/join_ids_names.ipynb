{
 "cells": [
  {
   "cell_type": "code",
   "execution_count": 1,
   "metadata": {},
   "outputs": [
    {
     "name": "stdout",
     "output_type": "stream",
     "text": [
      "{'7': 'アメックス', '26': 'アメリカン・エキスプレス・スカイ・トラベラー・プレミア・カード', '11': 'JTB旅カード1', '6': \"['ANA一般カード（学生用・ANA VISA Suicaカード・ANA VISA nimocaカード・']\", '21': 'エポスカード', '25': 'JAL CLUB-Aゴールドカード_jcb', '24': '楽天プレミアムカード', '35': 'JAL CLUB-Aゴールドカード_master', '5': '三井住友VISAゴールドカード', '8': 'アメックスゴールド', '29': 'ダイナースプレミアムカード', '3': 'JALダイナースカード', '15': 'dカード GOLD', '27': \"['ANA ワイドゴールドカード／']\", '16': 'MileagePlusセゾンカード', '1': 'JCB THE CLASS(ザ・クラス)', '12': 'MUFGカード ゴールド', '9': 'ANA ワイドゴールドカード／', '28': 'エポス\\u3000プラチナカード', '14': 'ANA ワイドカード／', '22': 'Recruit Card(リクルートカード)', '23': 'エポス\\u3000ゴールドカード', '2': 'ダイナース', '34': 'JAL CLUB-Aゴールドカード_amex', '18': \"['ANA ワイドカード／']\", '32': '三井住友VISAクラシックカードA', '31': 'JTB旅カード2', '30': 'H.I.S. Skywalker Card', '4': 'イオンゴールドカード', '19': 'JAL CLUB-Aカード', '13': '楽天カード', '20': 'JALカード（普通）_amex', '10': 'セゾンプラチナ・ビジネス・アメリカン・エキスプレス・カード', '33': 'ビックカメラSuicaカード', '17': 'ANA一般カード（学生用・ANA VISA Suicaカード・ANA VISA nimocaカード・'}\n"
     ]
    }
   ],
   "source": [
    "import json\n",
    "import pandas as pd\n",
    "import numpy as np\n",
    "from pathlib import Path\n",
    "\n",
    "path = ('src/data/preprocess/src/creditcard_insurance.json')\n",
    "\n",
    "url_image = open('src/data/preprocess/src/creditcard_insurance.json', 'r')\n",
    "load_json = json.load(url_image)\n",
    "\n",
    "ids = []\n",
    "names = []\n",
    "for key1, value1 in load_json.items(): # 1階層 = value1\n",
    "    if key1 != \"Items\":\n",
    "        continue\n",
    "    for i in value1: # convert list to dict  \n",
    "        for key2, value2 in i.items(): #2階層 = value2\n",
    "\n",
    "            # get id\n",
    "            if 'creditcard_id' in key2:\n",
    "                for value3 in value2.values():\n",
    "                    creditcard_id = value3\n",
    "#                     print(creditcard_id)\n",
    "                    ids.append(creditcard_id)\n",
    "\n",
    "            # get name\n",
    "            if 'creditcard_name' != key2:\n",
    "                continue\n",
    "            for value3 in value2.values(): #3階層 = value3\n",
    "\n",
    "                duplication_name = []\n",
    "                for value4 in value3: #4階層 = value4\n",
    "\n",
    "                    for value5 in value4.values(): #5階層 = value5\n",
    "\n",
    "                        # if name exit more than 2 list\n",
    "                        duplication_name.append(value5)\n",
    "                        if len(duplication_name) > 1:\n",
    "                            duplication_name.pop(1)\n",
    "                            name = str(duplication_name)\n",
    "                            #print(name)\n",
    "                            names.append(name)\n",
    "\n",
    "                        else:\n",
    "                            name = value5\n",
    "                            #print(name)\n",
    "                            names.append(name)\n",
    "\n",
    "\n",
    "join_ids_names = dict(zip(ids, names))\n",
    "print(join_ids_names)"
   ]
  },
  {
   "cell_type": "code",
   "execution_count": null,
   "metadata": {},
   "outputs": [],
   "source": []
  }
 ],
 "metadata": {
  "kernelspec": {
   "display_name": "Python 3",
   "language": "python",
   "name": "python3"
  },
  "language_info": {
   "codemirror_mode": {
    "name": "ipython",
    "version": 3
   },
   "file_extension": ".py",
   "mimetype": "text/x-python",
   "name": "python",
   "nbconvert_exporter": "python",
   "pygments_lexer": "ipython3",
   "version": "3.5.2"
  }
 },
 "nbformat": 4,
 "nbformat_minor": 2
}
