{
 "cells": [
  {
   "cell_type": "code",
   "execution_count": 1,
   "metadata": {},
   "outputs": [],
   "source": [
    "import csv\n",
    "\n",
    "import numpy as np\n",
    "import pandas as pd\n",
    "\n",
    "from pathlib import Path\n",
    "\n",
    "directory = Path('src/data/preprocess/data_aug/')\n",
    "\n",
    "csv_path = str(Path(directory, 'train.csv'))\n",
    "row_out = []\n",
    "with open(csv_path, \"w\", encoding=\"utf_8_sig\") as f:\n",
    "    csvWriter = csv.writer(f, lineterminator='\\n')\n",
    "    \n",
    "    for filename in directory.iterdir():\n",
    "\n",
    "        if filename.suffix == '.jpg':\n",
    "            row = []\n",
    "            # file name\n",
    "            row.append(filename)\n",
    "            row_out.append(filename)\n",
    "            \n",
    "            csvWriter.writerow(row)\n",
    "        "
   ]
  },
  {
   "cell_type": "code",
   "execution_count": 2,
   "metadata": {
    "scrolled": false
   },
   "outputs": [
    {
     "name": "stdout",
     "output_type": "stream",
     "text": [
      "{'4': 'イオンゴールドカード', '7': 'アメックス', '10': 'セゾンプラチナ・ビジネス・アメリカン・エキスプレス・カード', '24': '楽天プレミアムカード', '21': 'エポスカード', '27': \"['ANA ワイドゴールドカード／']\", '25': 'JAL CLUB-Aゴールドカード_jcb', '30': 'H.I.S. Skywalker Card', '32': '三井住友VISAクラシックカードA', '31': 'JTB旅カード2', '16': 'MileagePlusセゾンカード', '17': 'ANA一般カード（学生用・ANA VISA Suicaカード・ANA VISA nimocaカード・', '6': \"['ANA一般カード（学生用・ANA VISA Suicaカード・ANA VISA nimocaカード・']\", '22': 'Recruit Card(リクルートカード)', '11': 'JTB旅カード1', '26': 'アメリカン・エキスプレス・スカイ・トラベラー・プレミア・カード', '15': 'dカード GOLD', '18': \"['ANA ワイドカード／']\", '28': 'エポス\\u3000プラチナカード', '13': '楽天カード', '2': 'ダイナース', '5': '三井住友VISAゴールドカード', '14': 'ANA ワイドカード／', '9': 'ANA ワイドゴールドカード／', '8': 'アメックスゴールド', '23': 'エポス\\u3000ゴールドカード', '29': 'ダイナースプレミアムカード', '20': 'JALカード（普通）_amex', '3': 'JALダイナースカード', '34': 'JAL CLUB-Aゴールドカード_amex', '33': 'ビックカメラSuicaカード', '12': 'MUFGカード ゴールド', '1': 'JCB THE CLASS(ザ・クラス)', '35': 'JAL CLUB-Aゴールドカード_master', '19': 'JAL CLUB-Aカード'}\n"
     ]
    }
   ],
   "source": [
    "import json\n",
    "\n",
    "path = ('src/data/preprocess/src/creditcard_insurance.json')\n",
    "\n",
    "url_image = open('src/data/preprocess/src/creditcard_insurance.json', 'r')\n",
    "load_json = json.load(url_image)\n",
    "\n",
    "ids = []\n",
    "names = []\n",
    "for key1, value1 in load_json.items(): # 1階層 = value1\n",
    "    if key1 != \"Items\":\n",
    "        continue\n",
    "    for i in value1: # convert list to dict  \n",
    "        for key2, value2 in i.items(): #2階層 = value2\n",
    "\n",
    "            # get id\n",
    "            if 'creditcard_id' in key2:\n",
    "                for value3 in value2.values():\n",
    "                    creditcard_id = value3\n",
    "#                     print(creditcard_id)\n",
    "                    ids.append(creditcard_id)\n",
    "\n",
    "            # get name\n",
    "            if 'creditcard_name' != key2:\n",
    "                continue\n",
    "            for value3 in value2.values(): #3階層 = value3\n",
    "\n",
    "                duplication_name = []\n",
    "                for value4 in value3: #4階層 = value4\n",
    "\n",
    "                    for value5 in value4.values(): #5階層 = value5\n",
    "\n",
    "                        # if name exit more than 2 list\n",
    "                        duplication_name.append(value5)\n",
    "                        if len(duplication_name) > 1:\n",
    "                            duplication_name.pop(1)\n",
    "                            name = str(duplication_name)\n",
    "                            #print(name)\n",
    "                            names.append(name)\n",
    "\n",
    "                        else:\n",
    "                            name = value5\n",
    "                            #print(name)\n",
    "                            names.append(name)\n",
    "\n",
    "\n",
    "join_ids_names = dict(zip(ids, names))\n",
    "print(join_ids_names)"
   ]
  },
  {
   "cell_type": "code",
   "execution_count": 18,
   "metadata": {},
   "outputs": [],
   "source": [
    "for ids, names in join_ids_names.items():\n",
    "    # convert str\n",
    "    for r in row_out:\n",
    "        row = str(r.stem)\n",
    "        split_row = row.split('-')\n",
    "        i = 0\n",
    "\n",
    "        while i < len(names):\n",
    "            if names == split_row[0]:\n",
    "                print(ids)\n",
    "                break\n",
    "            i += 1\n",
    "        else:\n",
    "            pass"
   ]
  },
  {
   "cell_type": "code",
   "execution_count": 15,
   "metadata": {},
   "outputs": [
    {
     "data": {
      "text/plain": [
       "13"
      ]
     },
     "execution_count": 15,
     "metadata": {},
     "output_type": "execute_result"
    }
   ],
   "source": [
    "len(names)"
   ]
  },
  {
   "cell_type": "code",
   "execution_count": 21,
   "metadata": {},
   "outputs": [],
   "source": [
    "i = 0\n",
    "\n",
    "while i < len(names):\n",
    "    if names == split_row[0]:\n",
    "        print(1)\n",
    "        print(ids)\n",
    "    i += 1\n",
    "    \n"
   ]
  },
  {
   "cell_type": "code",
   "execution_count": 25,
   "metadata": {},
   "outputs": [
    {
     "name": "stdout",
     "output_type": "stream",
     "text": [
      " 19\n",
      "  3\n",
      " 14\n",
      "  8\n",
      " 13\n",
      "---\n",
      " 57\n"
     ]
    }
   ],
   "source": [
    "from random import randint\n",
    "tickets = 5\n",
    "point = 0\n",
    "fmt = \"{:>3}\"\n",
    "while tickets >0:\n",
    "    v = randint(1, 20)\n",
    "    print(fmt.format(v))\n",
    "    point += v\n",
    "    tickets -= 1\n",
    "\n",
    "print(\"-\" * 3)\n",
    "print(fmt.format(point))"
   ]
  },
  {
   "cell_type": "code",
   "execution_count": 27,
   "metadata": {},
   "outputs": [
    {
     "name": "stdout",
     "output_type": "stream",
     "text": [
      "9 1 11\n"
     ]
    }
   ],
   "source": [
    "while True:\n",
    "    a = randint(1, 13)\n",
    "    b = randint(1, 13)\n",
    "    c = randint(1, 13)\n",
    "    if (a + b + c) == 21:\n",
    "        break\n",
    "print(a, b ,c )"
   ]
  },
  {
   "cell_type": "code",
   "execution_count": null,
   "metadata": {},
   "outputs": [],
   "source": []
  },
  {
   "cell_type": "code",
   "execution_count": 33,
   "metadata": {},
   "outputs": [
    {
     "ename": "SyntaxError",
     "evalue": "invalid syntax (<ipython-input-33-0b87941db5d3>, line 9)",
     "output_type": "error",
     "traceback": [
      "\u001b[0;36m  File \u001b[0;32m\"<ipython-input-33-0b87941db5d3>\"\u001b[0;36m, line \u001b[0;32m9\u001b[0m\n\u001b[0;31m    value = input(f\"{a}+{b}は？\")\u001b[0m\n\u001b[0m                             ^\u001b[0m\n\u001b[0;31mSyntaxError\u001b[0m\u001b[0;31m:\u001b[0m invalid syntax\n"
     ]
    }
   ],
   "source": [
    "miss = 0\n",
    "correct = 0\n",
    "print(\"Question\")\n",
    "while miss < 3:\n",
    "    a = randint(1, 100)\n",
    "    b = randint(1, 100)\n",
    "    ans = a + b\n",
    "    \n",
    "    question = f\"{a}+{b}は？\"\n",
    "    value = input(question)\n",
    "    if value ==\"q\":\n",
    "        break\n",
    "    if value == str(ans)\n",
    "        correct += 1\n",
    "        print(\"True\")\n",
    "    else:\n",
    "        miss += 1\n",
    "        print(\"miss\", \"x\" * miss)\n",
    "        \n",
    "print(\"-\" * 20)\n",
    "print(\"Correct:\", correct)\n",
    "print(\"miss:\", miss)"
   ]
  },
  {
   "cell_type": "code",
   "execution_count": 35,
   "metadata": {},
   "outputs": [
    {
     "name": "stdout",
     "output_type": "stream",
     "text": [
      "[87, 73, 80, 58, 68, 6, 0, 42, 41, 21]\n"
     ]
    }
   ],
   "source": [
    "numbers = []\n",
    "while len(numbers) < 10:\n",
    "    n = randint(0, 100)\n",
    "    if n in numbers:\n",
    "        continue\n",
    "    numbers.append(n)\n",
    "else:\n",
    "    print(numbers)"
   ]
  },
  {
   "cell_type": "code",
   "execution_count": null,
   "metadata": {},
   "outputs": [],
   "source": []
  }
 ],
 "metadata": {
  "kernelspec": {
   "display_name": "Python 3",
   "language": "python",
   "name": "python3"
  },
  "language_info": {
   "codemirror_mode": {
    "name": "ipython",
    "version": 3
   },
   "file_extension": ".py",
   "mimetype": "text/x-python",
   "name": "python",
   "nbconvert_exporter": "python",
   "pygments_lexer": "ipython3",
   "version": "3.5.2"
  }
 },
 "nbformat": 4,
 "nbformat_minor": 2
}
